{
 "cells": [
  {
   "cell_type": "code",
   "execution_count": 8,
   "id": "eef57ab0-ad3e-41d6-a85c-8c580af586d9",
   "metadata": {},
   "outputs": [
    {
     "name": "stdout",
     "output_type": "stream",
     "text": [
      "Sample variance: 2.5\n",
      "Population variance: 2.0\n"
     ]
    }
   ],
   "source": [
    "# Define the list\n",
    "data = [3, 4, 5, 6, 7]\n",
    "\n",
    "# Calculate the sample mean and population mean\n",
    "n = len(data)\n",
    "x_bar = sum(data) / n\n",
    "mu = x_bar\n",
    "\n",
    "# Calculate the sample variance\n",
    "s_squared = sum((x - x_bar) ** 2 for x in data) / (n - 1)\n",
    "\n",
    "# Calculate the population variance\n",
    "sigma_squared = sum((x - mu) ** 2 for x in data) / n\n",
    "\n",
    "# Print the results\n",
    "print(\"Sample variance:\", s_squared)\n",
    "print(\"Population variance:\", sigma_squared)\n"
   ]
  },
  {
   "cell_type": "code",
   "execution_count": 1,
   "id": "4d799677",
   "metadata": {},
   "outputs": [],
   "source": [
    "import numpy as np\n",
    "from scipy import stats\n",
    "import warnings\n",
    "\n",
    "warnings.filterwarnings('ignore')"
   ]
  },
  {
   "cell_type": "code",
   "execution_count": 8,
   "id": "eaef5f9c-b4f2-4f6b-a5d3-e4deeff023b1",
   "metadata": {},
   "outputs": [],
   "source": [
    "# Create an example array\n",
    "arr = np.array([1, 2, 3, 3, 4, 4, 4, 5])"
   ]
  },
  {
   "cell_type": "markdown",
   "id": "f251e682-5dd0-445b-b0b7-08d81fbdb265",
   "metadata": {},
   "source": [
    "## Mean"
   ]
  },
  {
   "cell_type": "code",
   "execution_count": null,
   "id": "474adaca-f862-46b5-908e-b7abf656b9ed",
   "metadata": {},
   "outputs": [],
   "source": [
    "# Calculate mean - avg value\n",
    "# sum(all values) / length of array\n",
    "mean = np.mean(arr)\n",
    "print(\"Mean:\", mean)"
   ]
  },
  {
   "cell_type": "markdown",
   "id": "5edf3e08-3119-4762-99df-c1b27f1b2372",
   "metadata": {},
   "source": [
    "## Median"
   ]
  },
  {
   "cell_type": "code",
   "execution_count": null,
   "id": "61211e17-a83a-4680-925d-deac812d5ef1",
   "metadata": {},
   "outputs": [],
   "source": [
    "# Calculate median\n",
    "# central value after sorting\n",
    "median = np.median(arr)\n",
    "print(\"Median:\", median)"
   ]
  },
  {
   "cell_type": "markdown",
   "id": "584d79db-5a65-4e08-addb-3c6187b5a6a4",
   "metadata": {},
   "source": [
    "## Mode"
   ]
  },
  {
   "cell_type": "code",
   "execution_count": null,
   "id": "37c59d31-e6db-4063-aeb9-b1c614dda47f",
   "metadata": {},
   "outputs": [],
   "source": [
    "# Calculate mode\n",
    "# most frequent value\n",
    "mode = stats.mode(arr)[0][0]\n",
    "print(\"Mode:\", mode)"
   ]
  },
  {
   "cell_type": "markdown",
   "id": "9112b66e-222e-419b-a1ea-955d0331edfe",
   "metadata": {},
   "source": [
    "## Variance - Population"
   ]
  },
  {
   "cell_type": "code",
   "execution_count": null,
   "id": "079dc8c9-d74c-447b-a9fe-1329195df097",
   "metadata": {},
   "outputs": [],
   "source": [
    "# Calculate population variance - variance is a measure of how spread out a set of data is\n",
    "# sum(difference each member from mean) / length of array\n",
    "variance = np.var(arr)\n",
    "print(\"Population Variance:\", variance)"
   ]
  },
  {
   "cell_type": "markdown",
   "id": "35f75565-131d-4dd6-924a-9e8b0042f9e3",
   "metadata": {},
   "source": [
    "## Variance - Sample"
   ]
  },
  {
   "cell_type": "code",
   "execution_count": null,
   "id": "94567fc9-cc00-42aa-9181-3525ab11e082",
   "metadata": {},
   "outputs": [],
   "source": [
    "# Calculate sample variance\n",
    "# sum(difference each member from mean) / length of array - 1\n",
    "sample_data = np.random.choice(arr, size=5, replace=False)\n",
    "sample_var = np.var(sample_data, ddof=1)\n",
    "print(\"Sample Variance:\", sample_var)"
   ]
  },
  {
   "cell_type": "markdown",
   "id": "035a701c-dbe1-45c7-858c-72068bdff747",
   "metadata": {},
   "source": [
    "## Standard Deviation"
   ]
  },
  {
   "cell_type": "code",
   "execution_count": null,
   "id": "ecaf4f20-7d86-4993-a685-0ec9f2fd498f",
   "metadata": {},
   "outputs": [],
   "source": [
    "# Standard Deviation = √( Σ (xi - μ)^2 / N )\n",
    "# Standard deviation helps you to see how much the members of group are spread out from the average distance.\n",
    "std_dev = np.std(arr)\n",
    "print(\"Standard deviation:\", std_dev)"
   ]
  },
  {
   "cell_type": "markdown",
   "id": "aac04fe1-deab-4890-84b4-f90c57255ee7",
   "metadata": {},
   "source": [
    "## Random Variables"
   ]
  },
  {
   "cell_type": "code",
   "execution_count": 5,
   "id": "d1f83247",
   "metadata": {},
   "outputs": [
    {
     "name": "stdout",
     "output_type": "stream",
     "text": [
      "Tails\n"
     ]
    }
   ],
   "source": [
    "# A random variable is a mathematical concept used in statistics to help us understand and analyze the uncertain outcomes of events.\n",
    "# Create a random variable with two outcomes (0 and 1)\n",
    "# representing the result of a coin flip\n",
    "coin_flip = np.random.randint(0, 2)\n",
    "\n",
    "# Print the result of the coin flip\n",
    "if coin_flip == 0:\n",
    "    print(\"Heads\")\n",
    "else:\n",
    "    print(\"Tails\")"
   ]
  },
  {
   "cell_type": "markdown",
   "id": "a506c290-5b3e-4da3-94b8-215960887ceb",
   "metadata": {},
   "source": [
    "## Discrete vs Continuous"
   ]
  },
  {
   "cell_type": "code",
   "execution_count": null,
   "id": "0dd69a5f-a8b2-4f95-bda9-390177902294",
   "metadata": {},
   "outputs": [],
   "source": [
    "# Discrete variables can only take on specific, distinct values. (whole numbers)\n",
    "# Continuous variables can take on any value within a certain range. (floating numbers)"
   ]
  },
  {
   "cell_type": "code",
   "execution_count": 9,
   "id": "e74fc7af-7973-40e8-9e9e-c60ae4aeda7e",
   "metadata": {},
   "outputs": [
    {
     "name": "stdout",
     "output_type": "stream",
     "text": [
      "Number of children in a family:\n",
      "Mean: 2.5\n",
      "Standard deviation: 1.707825127659933\n",
      "Height of a person:\n",
      "Mean: 5.8\n",
      "Standard deviation: 0.14142135623730964\n"
     ]
    }
   ],
   "source": [
    "# Example of a discrete variable (number of children in a family)\n",
    "num_children = np.array([0, 1, 2, 3, 4, 5])\n",
    "\n",
    "# Calculate the mean and standard deviation of the number of children\n",
    "mean_children = np.mean(num_children)\n",
    "std_children = np.std(num_children)\n",
    "\n",
    "print(\"Number of children in a family:\")\n",
    "print(\"Mean:\", mean_children)\n",
    "print(\"Standard deviation:\", std_children)\n",
    "\n",
    "# Example of a continuous variable (height of a person)\n",
    "heights = np.array([5.6, 5.7, 5.8, 5.9, 6.0])\n",
    "\n",
    "# Calculate the mean and standard deviation of the heights\n",
    "mean_heights = np.mean(heights)\n",
    "std_heights = np.std(heights)\n",
    "\n",
    "print(\"Height of a person:\")\n",
    "print(\"Mean:\", mean_heights)\n",
    "print(\"Standard deviation:\", std_heights)"
   ]
  },
  {
   "cell_type": "markdown",
   "id": "6213f59e-fc88-4ff3-b4f6-04840fa9b9d0",
   "metadata": {},
   "source": [
    "## Binomial Distribution"
   ]
  },
  {
   "cell_type": "raw",
   "id": "5c469f20-ecd8-4cb2-88b6-5ca79367fc5d",
   "metadata": {},
   "source": [
    "The binomial distribution is used in statistics to help us understand how likely it is to get a certain number of \"successes\" in a certain number of \"trials\".\n",
    "\n",
    "Coin flipping game (Heads or Tails)\n",
    "Calculate the probability of coming heads 3 times out of 5 trials\n",
    "\n",
    "k = 3 Heads, n = 5 Trial, p = 0.5 Probability\n",
    "dist = (n! / (k! * (n-k)!))\n",
    "prob_fail = 1 - p\n",
    "fail_power = prob_fail ** (n-k)\n",
    "success_power = p ** k\n",
    "\n",
    "prob(k) = dist * (fail_power * success_power)"
   ]
  },
  {
   "cell_type": "code",
   "execution_count": 21,
   "id": "699204bc-6638-4e4b-b3e5-2189251fd533",
   "metadata": {},
   "outputs": [
    {
     "name": "stdout",
     "output_type": "stream",
     "text": [
      "The probability of getting 3 successes out of 6 trials is: 0.18521999999999994\n"
     ]
    }
   ],
   "source": [
    "import math\n",
    "n = 6      # trials\n",
    "p = .3     # probability of success\n",
    "k = 3      # number of successes\n",
    "\n",
    "miss = 1 - p   # probability of fail\n",
    "dist = math.factorial(n) / (math.factorial(k) * math.factorial((n-k)))\n",
    "\n",
    "miss_power = miss ** (n-k)\n",
    "shot_power = p ** k\n",
    "result = dist * (miss_power * shot_power)\n",
    "\n",
    "print(f\"The probability of getting {k} successes out of {n} trials is:\", result)"
   ]
  },
  {
   "cell_type": "code",
   "execution_count": 22,
   "id": "f10b5342-0b43-4b00-b5cf-a068dba2229c",
   "metadata": {},
   "outputs": [
    {
     "name": "stdout",
     "output_type": "stream",
     "text": [
      "The probability of getting 3 successes out of 6 trials is: 0.1852199999999999\n"
     ]
    }
   ],
   "source": [
    "from scipy.stats import binom\n",
    "\n",
    "n = 6\n",
    "p = .3\n",
    "k = 3\n",
    "\n",
    "# calculate the probability using the binomial distribution\n",
    "prob = binom.pmf(k, n, p)\n",
    "\n",
    "print(f\"The probability of getting {k} successes out of {n} trials is:\", prob)"
   ]
  },
  {
   "cell_type": "code",
   "execution_count": 19,
   "id": "b020c3a5-b7f7-4895-887b-90e2c4271ca4",
   "metadata": {},
   "outputs": [
    {
     "data": {
      "image/png": "[encoded data removed]",
      "text/plain": [
       "<Figure size 640x480 with 1 Axes>"
      ]
     },
     "metadata": {},
     "output_type": "display_data"
    }
   ],
   "source": [
    "import matplotlib.pyplot as plt\n",
    "\n",
    "# Create a binomial distribution object\n",
    "dist = binom(n=n, p=p)\n",
    "\n",
    "# Calculate the probability of each outcome from 0 to n trials\n",
    "probs = [dist.pmf(k) for k in range(n+1)]\n",
    "\n",
    "# Plot the results in a bar chart\n",
    "fig, ax = plt.subplots()\n",
    "ax.bar(np.arange(n+1), probs)\n",
    "ax.set_xlabel('Number of Successes')\n",
    "ax.set_ylabel('Probability')\n",
    "ax.set_title('Binomial Distribution (n=5, p=0.5)')\n",
    "\n",
    "for i, v in enumerate(probs):\n",
    "    ax.text(i, v, \"{:.3f}\".format(v), ha='center', va='bottom')\n",
    "\n",
    "plt.show()"
   ]
  },
  {
   "cell_type": "code",
   "execution_count": null,
   "id": "4ad00187-3937-4897-89f0-ee02378bf21f",
   "metadata": {},
   "outputs": [
    {
     "name": "stdout",
     "output_type": "stream",
     "text": [
      "Sample mean: 5.036\n",
      "Sample variance: 2.5587039999999996\n"
     ]
    }
   ],
   "source": [
    "# Define the parameters of the distribution\n",
    "n = 10   # number of trials\n",
    "p = 0.5  # probability of success in each trial\n",
    "\n",
    "# Generate a sample of 1000 random numbers from the binomial distribution\n",
    "sample = np.random.binomial(n, p, 1000)\n",
    "\n",
    "# Compute the mean and variance of the sample\n",
    "mean = np.mean(sample)\n",
    "variance = np.var(sample)\n",
    "\n",
    "# Print the results\n",
    "print(\"Sample mean:\", mean) # avg number of successes -> n*p = 10*0.5 = 5\n",
    "print(\"Sample variance:\", variance) # The variance tells us how spread out the distribution of successes is around the mean. -> n*p*(1-p)"
   ]
  },
  {
   "cell_type": "markdown",
   "id": "0f93efc7-c26c-422d-b711-11b292346d7c",
   "metadata": {},
   "source": [
    "## Factorial"
   ]
  },
  {
   "cell_type": "code",
   "execution_count": 1,
   "id": "57c5a707-ddf6-4f85-b286-5245a726f17d",
   "metadata": {},
   "outputs": [],
   "source": [
    "# It is used to calculate the product of all positive integers up to a given number.\n",
    "# 5! = 5 x 4 x 3 x 2 x 1 = 120"
   ]
  },
  {
   "cell_type": "code",
   "execution_count": 3,
   "id": "5c530b0a-e5c9-41bd-bf4c-0a265cd05fba",
   "metadata": {},
   "outputs": [
    {
     "name": "stdout",
     "output_type": "stream",
     "text": [
      "Factorial 5 is:  120\n"
     ]
    }
   ],
   "source": [
    "import math\n",
    "\n",
    "n = 5\n",
    "result = math.factorial(n)\n",
    "print(f'Factorial {n} is: ', result)"
   ]
  },
  {
   "cell_type": "markdown",
   "id": "7bba095d-c704-4f87-bbdf-d19f64c79ff3",
   "metadata": {
    "tags": []
   },
   "source": [
    "## Expected Value"
   ]
  },
  {
   "cell_type": "code",
   "execution_count": 23,
   "id": "4e3cb89c-fe0e-45e7-a4a4-37a4d34214ab",
   "metadata": {},
   "outputs": [],
   "source": [
    "# It represents the average value of a random variable that we expect to obtain over many trials of an experiment.\n",
    "\n",
    "# the mean and expected value are often used interchangeably, the expected value can be more appropriate in certain situations, \n",
    "# such as when dealing with random variables, skewed distributions, or decision-making.\n",
    "\n",
    "# Main Formula: E(X) = np\n",
    "\n",
    "# Discrete Random Variable\n",
    "# E(X) = ∑ x P(X = x)\n",
    "\n",
    "# Continuous Random Variable\n",
    "# E(X) = ∫ x f(x) dx"
   ]
  },
  {
   "cell_type": "markdown",
   "id": "d7aa803b-6d10-4e3b-95a8-67fe30d6ce98",
   "metadata": {},
   "source": [
    "### Discrete"
   ]
  },
  {
   "cell_type": "code",
   "execution_count": 36,
   "id": "cb65b720-adfe-44c0-b9c8-074391da1f71",
   "metadata": {},
   "outputs": [
    {
     "data": {
      "text/plain": [
       "3.6000000000000005"
      ]
     },
     "execution_count": 36,
     "metadata": {},
     "output_type": "execute_result"
    }
   ],
   "source": [
    "# Formula: E(X) = ∑ x P(X = x)\n",
    "\n",
    "# Define the possible outcomes of the random variable X\n",
    "arr = [3, 3, 3, 4, 5]\n",
    "\n",
    "# Define the probability of each outcome\n",
    "probs = [1/len(arr) for _ in range(len(arr))]\n",
    "\n",
    "# Calculate the expected value of X\n",
    "expected_value = sum([x * p for x, p in zip(arr, probs)])\n",
    "\n",
    "expected_value"
   ]
  },
  {
   "cell_type": "markdown",
   "id": "8ae4fdbc-ac7d-4b57-ba33-2440432bd292",
   "metadata": {
    "tags": []
   },
   "source": [
    "### Continuous"
   ]
  },
  {
   "cell_type": "code",
   "execution_count": 39,
   "id": "5d9b1afd-f0e5-41fb-9427-1c3f7634d8fb",
   "metadata": {},
   "outputs": [
    {
     "name": "stdout",
     "output_type": "stream",
     "text": [
      "The expected value of X is: 172.46614223638358\n"
     ]
    }
   ],
   "source": [
    "# Formula: E(X) = ∫ x f(x) dx\n",
    "\n",
    "arr = [169.76, 177.232, 172.12, 175.3221, 170.2311]\n",
    "\n",
    "# Define the mean and standard deviation of the random variable X\n",
    "mu = np.mean(arr)     # population mean\n",
    "sigma = np.std(arr)   # std\n",
    "\n",
    "# Define the probability density function of X\n",
    "def normal_pdf(x, mu, sigma):\n",
    "    return 1/(sigma*np.sqrt(2*np.pi)) * np.exp(-(x - mu)**2/(2*sigma**2))\n",
    "\n",
    "# Define the range of values over which to calculate the expected value\n",
    "x_values = np.linspace(mu - 3*sigma, mu + 3*sigma, 1000)\n",
    "\n",
    "# Calculate the expected value of X using the formula\n",
    "expected_value = np.trapz(x_values * normal_pdf(x_values, mu, sigma), x_values)\n",
    "\n",
    "# Print the result\n",
    "print(\"The expected value of X is:\", expected_value)"
   ]
  },
  {
   "cell_type": "markdown",
   "id": "d1d09858-654a-49c6-9a51-408a160d2da6",
   "metadata": {},
   "source": [
    "### Expected value of binomial distribution"
   ]
  },
  {
   "cell_type": "code",
   "execution_count": 42,
   "id": "7e441fda-038c-4840-ac39-eedda253539b",
   "metadata": {},
   "outputs": [
    {
     "name": "stdout",
     "output_type": "stream",
     "text": [
      "The expected value of a binomial distribution with n=10 and p=0.5 is 5.01\n"
     ]
    }
   ],
   "source": [
    "# Formula: E(X) = np\n",
    "\n",
    "n = 10  # number of trials\n",
    "p = 0.5  # probability of success in each trial\n",
    "\n",
    "expected_value = np.random.binomial(n, p, size=10000).mean()  # generate 10000 samples and calculate the mean\n",
    "\n",
    "print(f\"The expected value of a binomial distribution with n={n} and p={p} is {expected_value:.2f}\")"
   ]
  },
  {
   "cell_type": "markdown",
   "id": "941af97b-fb57-46c3-a14c-3be95235cc89",
   "metadata": {},
   "source": [
    "## Frequency"
   ]
  },
  {
   "cell_type": "code",
   "execution_count": 29,
   "id": "932b4aa8-a790-4bde-be90-8a36d99df9f7",
   "metadata": {},
   "outputs": [
    {
     "name": "stdout",
     "output_type": "stream",
     "text": [
      "3: 60.0%\n",
      "4: 20.0%\n",
      "5: 20.0%\n"
     ]
    }
   ],
   "source": [
    "from collections import Counter\n",
    "\n",
    "arr = [3, 3, 3, 4, 5]\n",
    "\n",
    "# Convert array to list\n",
    "lst = list(arr)\n",
    "\n",
    "# Count frequency of each element\n",
    "freq = Counter(lst)\n",
    "\n",
    "# Calculate percentage frequency of each element\n",
    "for key, value in freq.items():\n",
    "    percent = (value / len(lst)) * 100\n",
    "    print(f\"{key}: {percent:.1f}%\")"
   ]
  },
  {
   "cell_type": "markdown",
   "id": "47df66bd-1ff7-4d5c-a1a5-aa1b62fa8cdc",
   "metadata": {},
   "source": [
    "## Poisson Process"
   ]
  },
  {
   "cell_type": "raw",
   "id": "6cbd2413-cb57-4095-80fd-45a7e4de110e",
   "metadata": {},
   "source": [
    "The Poisson process helps us predict how many events we can expect in a given time period. \n",
    "It's like guessing how many birds you might see in an hour based on how many you saw in a minute.\n",
    "\n",
    "! Formula - P(N(t) = n) = ((lambda * t)^n / n!) * exp(-lambda * t)\n",
    "\n",
    "- P(N(t) = n) is the probability that there are exactly n events occurring in the time interval [0, t].\n",
    "- lambda is the rate of occurrence of events per unit time (e.g., customers arriving per minute, or raindrops falling per second).\n",
    "- t is the length of the time interval.\n",
    "- n is the number of events that occur in the time interval.\n",
    "- exp() is the exponential function, which is e raised to the power of the argument."
   ]
  },
  {
   "cell_type": "raw",
   "id": "e26f3808-2f3a-4f6d-add8-8804f31f689a",
   "metadata": {},
   "source": [
    "! Formula - P(X=k) = (e^(-λ) * λ^k) / k!\n",
    "\n",
    "- X is the random variable that represents the number of events in the interval, \n",
    "- k is a non-negative integer that represents the number of events, \n",
    "- e is the mathematical constant approximately equal to 2.71828, and \n",
    "- k! is the factorial of k.\n",
    "\n",
    "The Poisson distribution has some important properties, such as:\n",
    "\n",
    "- The mean and variance of the distribution are both equal to λ.\n",
    "- The distribution is skewed to the right when λ is small, and becomes more symmetric as λ increases.\n",
    "- The Poisson distribution can be used to approximate the binomial distribution when the number of trials is large and the probability of success is small."
   ]
  },
  {
   "cell_type": "code",
   "execution_count": 25,
   "id": "45fe838b-b0fd-4a73-832d-68601e5e01bf",
   "metadata": {},
   "outputs": [
    {
     "data": {
      "image/png": "[encoded data removed]",
      "text/plain": [
       "<Figure size 640x480 with 1 Axes>"
      ]
     },
     "metadata": {},
     "output_type": "display_data"
    }
   ],
   "source": [
    "import numpy as np\n",
    "import matplotlib.pyplot as plt\n",
    "from scipy.special import factorial\n",
    "\n",
    "# Set the average rate of events per interval\n",
    "lam = 3\n",
    "\n",
    "# Generate random data that follows a Poisson distribution\n",
    "data = np.random.poisson(lam, 1000)\n",
    "\n",
    "# Create a histogram of the data\n",
    "plt.hist(data, bins=20, density=True, alpha=0.5, color='blue')\n",
    "\n",
    "# Compute the probability mass function of the Poisson distribution\n",
    "k = np.arange(0, 15)\n",
    "\n",
    "# Compute the factorials of the values in the array\n",
    "fact_k = factorial(k)\n",
    "\n",
    "pmf = np.exp(-lam) * lam**k / fact_k\n",
    "\n",
    "# Plot the probability mass function of the Poisson distribution\n",
    "plt.plot(k, pmf, 'ro-', label='Poisson PMF')\n",
    "\n",
    "# Add labels and a title to the plot\n",
    "plt.xlabel('Number of events')\n",
    "plt.ylabel('Probability')\n",
    "plt.title('Poisson Distribution')\n",
    "\n",
    "# Add a legend to the plot\n",
    "plt.legend()\n",
    "\n",
    "# Show the plot\n",
    "plt.show()\n"
   ]
  },
  {
   "cell_type": "code",
   "execution_count": 14,
   "id": "4ec62907-c5cc-49fe-9d09-89810739cabb",
   "metadata": {},
   "outputs": [
    {
     "data": {
      "text/plain": [
       "array([ 7,  6, 11,  3,  5])"
      ]
     },
     "execution_count": 14,
     "metadata": {},
     "output_type": "execute_result"
    }
   ],
   "source": [
    "import numpy as np\n",
    "\n",
    "# set the rate of birds per minute\n",
    "bird_rate = 5   # can be mean of population\n",
    "\n",
    "# set the length of time to count birds\n",
    "time_period = 1  # in minutes\n",
    "num_intervals = int(bird_rate / time_period)\n",
    "\n",
    "# generate a Poisson process\n",
    "num_birds = np.random.poisson(bird_rate * time_period, num_intervals)\n",
    "\n",
    "# print the number of birds seen\n",
    "# print(\"I saw {} birds in 1 minute!\".format(num_birds))\n",
    "num_birds"
   ]
  },
  {
   "cell_type": "markdown",
   "id": "5b41362c-2555-41bf-a107-f87cf27a110d",
   "metadata": {},
   "source": [
    "## Limit"
   ]
  },
  {
   "cell_type": "raw",
   "id": "97fbbe6a-534d-4208-8d9a-62e522e3515d",
   "metadata": {},
   "source": [
    "Limits are used to define important concepts such as \n",
    "continuity, derivatives, and integrals, and are essential for understanding many advanced topics in mathematics, science, and engineering.\n",
    "\n",
    "Limit describes the behavior of a function as its input approaches a particular value\n",
    "lim_{x -> a} f(x)"
   ]
  },
  {
   "cell_type": "code",
   "execution_count": 21,
   "id": "ef4149f4-adab-4d6c-ab47-52a58ea366fc",
   "metadata": {},
   "outputs": [
    {
     "name": "stdout",
     "output_type": "stream",
     "text": [
      "2\n"
     ]
    }
   ],
   "source": [
    "import sympy as sp\n",
    "\n",
    "# Define the function f(x)\n",
    "x = sp.Symbol('x')\n",
    "f = (x**2 - 1) / (x - 1)\n",
    "\n",
    "# Find the limit of f(x) as x approaches 1\n",
    "limit = sp.limit(f, x, 1)\n",
    "\n",
    "# Print the result\n",
    "print(limit)\n"
   ]
  },
  {
   "cell_type": "code",
   "execution_count": 20,
   "id": "8a84e423-7d21-4e5d-9eab-0da42e11bf81",
   "metadata": {},
   "outputs": [
    {
     "name": "stdout",
     "output_type": "stream",
     "text": [
      "oo\n"
     ]
    }
   ],
   "source": [
    "# Approach is infinity\n",
    "\n",
    "# Define the function f(x)\n",
    "x = sp.Symbol('x')\n",
    "f = x**2 / (x + 1)\n",
    "\n",
    "# Find the limit of f(x) as x approaches infinity\n",
    "limit = sp.limit(f, x, sp.oo)\n",
    "\n",
    "# Print the result\n",
    "print(limit)"
   ]
  },
  {
   "cell_type": "markdown",
   "id": "a148f0e6-2ca8-4982-99fc-c78216bdb5be",
   "metadata": {},
   "source": [
    "## Law of Large Numbers"
   ]
  },
  {
   "cell_type": "code",
   "execution_count": 32,
   "id": "58293ff1-e086-4076-8381-d7ff70b70aeb",
   "metadata": {},
   "outputs": [],
   "source": [
    "# describes the relationship between the sample mean and the population mean.\n",
    "# It states that as the sample size increases, the sample mean will converge to the population mean. \n",
    "# In other words, the larger the sample size, the closer the sample mean will be to the true population mean.\n",
    "\n",
    "# Formula: lim n→∞ P(|(X1 + X2 + ... + Xn)/n - μ| ≥ ε) = 0"
   ]
  },
  {
   "cell_type": "code",
   "execution_count": 31,
   "id": "cf13bf68-f33d-4945-a376-4195edf03977",
   "metadata": {},
   "outputs": [
    {
     "name": "stdout",
     "output_type": "stream",
     "text": [
      "Sample size: 10 | Sample mean: 46.33 | Error: 3.67\n",
      "Sample size: 50 | Sample mean: 50.88 | Error: 0.88\n",
      "Sample size: 100 | Sample mean: 50.75 | Error: 0.75\n",
      "Sample size: 500 | Sample mean: 48.78 | Error: 1.22\n",
      "Sample size: 1000 | Sample mean: 49.61 | Error: 0.39\n"
     ]
    },
    {
     "data": {
      "image/png": "[encoded data removed]",
      "text/plain": [
       "<Figure size 640x480 with 1 Axes>"
      ]
     },
     "metadata": {},
     "output_type": "display_data"
    }
   ],
   "source": [
    "import random\n",
    "import matplotlib.pyplot as plt\n",
    "\n",
    "# Define the population mean and standard deviation\n",
    "population_mean = 50\n",
    "population_std_dev = 10\n",
    "\n",
    "# Define a function to calculate the sample mean\n",
    "def sample_mean(sample):\n",
    "    return sum(sample) / len(sample)\n",
    "\n",
    "# Define a function to generate a random sample of a given size\n",
    "def generate_sample(size):\n",
    "    return [random.normalvariate(population_mean, population_std_dev) for _ in range(size)]\n",
    "\n",
    "# Define a function to test the Law of Large Numbers\n",
    "def test_law_of_large_numbers(sample_sizes):\n",
    "    errors = []\n",
    "    population_means = [population_mean for _ in sample_sizes]\n",
    "    for size in sample_sizes:\n",
    "        sample = generate_sample(size)\n",
    "        sample_mean_value = sample_mean(sample)\n",
    "        error = abs(sample_mean_value - population_mean)\n",
    "        errors.append(error)\n",
    "        print(f\"Sample size: {size} | Sample mean: {sample_mean_value:.2f} | Error: {error:.2f}\")\n",
    "    # plt.plot(sample_sizes, population_means, linestyle='-', color='blue')\n",
    "    plt.bar(sample_sizes, errors)\n",
    "    plt.plot(sample_sizes, errors, linestyle='--', color='red')\n",
    "    plt.xlabel('Sample Size')\n",
    "    plt.ylabel('Error')\n",
    "    plt.title('Error vs. Sample Size')\n",
    "    plt.show()\n",
    "\n",
    "# Test the Law of Large Numbers for different sample sizes\n",
    "test_law_of_large_numbers([10, 50, 100, 500, 1000])\n"
   ]
  },
  {
   "cell_type": "markdown",
   "id": "38386dcd-c8f3-468f-9686-7e7c1c125874",
   "metadata": {},
   "source": [
    "## Normal Distribution"
   ]
  },
  {
   "cell_type": "raw",
   "id": "ad544838-89e2-46cc-97f1-5ec3ab91d917",
   "metadata": {},
   "source": [
    "Imagine you are measuring the height of all the kids in your class. Some kids are tall, some are short, and some are in the middle. \n",
    "If you graphed how many kids were each height, you would see a bell-shaped curve that looks like the normal distribution.\n",
    "\n",
    "The center of the curve is the average height of all the kids in your class. The width of the curve shows how much the heights of the kids vary from each other. \n",
    "If the curve is wide, it means the kids are really different heights from each other. If the curve is narrow, it means the kids are all about the same height.\n",
    "\n",
    "The normal distribution is useful because it can help us make predictions about what we expect to see in the world. \n",
    "If we know something follows a normal distribution, we can make educated guesses about how often we might see certain things happen.\n",
    "\n",
    "For example, if we know that test scores in a class follow a normal distribution, we can guess that most students will get scores around \n",
    "the average and there will be fewer students who get really high or really low scores."
   ]
  },
  {
   "cell_type": "raw",
   "id": "c9c86eb4-6d52-4d68-a4e0-ea968c154007",
   "metadata": {},
   "source": [
    "the main differences between binomial and normal distributions are:\n",
    "\n",
    "- Binomial distribution models discrete variables with a fixed number of trials and probability of success, while normal distribution models continuous variables affected by many small, random factors.\n",
    "- Binomial distribution has a fixed shape that depends on the values of n and p, while normal distribution has a symmetrical bell-shaped curve that depends on the values of μ and σ.\n",
    "- Binomial distribution can take on only integer values, while normal distribution can take on any real value."
   ]
  },
  {
   "cell_type": "raw",
   "id": "2a90b426-0f87-41fc-b623-45db914c7fab",
   "metadata": {},
   "source": [
    "The formula for the probability density function (PDF) of the normal distribution, also known as the Gaussian distribution, is:\n",
    "\n",
    "f(x; μ, σ) = (1 / (σ * sqrt(2π))) * exp(-((x-μ)^2 / (2σ^2)))\n",
    "\n",
    "where:\n",
    "\n",
    "- x is the value of the random variable\n",
    "- μ is the mean of the distribution\n",
    "- σ is the standard deviation of the distribution\n",
    "- π is the mathematical constant pi\n",
    "- sqrt() is the square root function\n",
    "- exp() is the exponential function"
   ]
  },
  {
   "cell_type": "code",
   "execution_count": null,
   "id": "e8b27607-e8ca-41a6-ae93-b68232d1e70d",
   "metadata": {},
   "outputs": [],
   "source": [
    "import numpy as np\n",
    "\n",
    "def normal_pdf(x, mu, sigma):\n",
    "    \"\"\"\n",
    "    Compute the probability density function (PDF) of the normal distribution.\n",
    "    \"\"\"\n",
    "    term1 = 1 / (sigma * np.sqrt(2*np.pi))\n",
    "    term2 = np.exp(-(x-mu)**2 / (2*sigma**2))\n",
    "    return term1 * term2"
   ]
  },
  {
   "cell_type": "code",
   "execution_count": 5,
   "id": "be68f1c1-0b60-42e7-a7a2-cc6a1a2597e2",
   "metadata": {},
   "outputs": [
    {
     "name": "stdout",
     "output_type": "stream",
     "text": [
      "The probability of x being between -1 and 1 is 0.0703\n"
     ]
    }
   ],
   "source": [
    "# CDF - Cumilative distribution\n",
    "from scipy.stats import norm\n",
    "\n",
    "mu = -5\n",
    "sigma = 10\n",
    "lower_bound = -1\n",
    "upper_bound = 1\n",
    "\n",
    "# Compute the z-scores of the bounds\n",
    "z_lower = (lower_bound - mu) / sigma\n",
    "z_upper = (upper_bound - mu) / sigma\n",
    "\n",
    "# Compute the probability using the CDF of the normal distribution\n",
    "prob = norm.cdf(z_upper) - norm.cdf(z_lower)\n",
    "\n",
    "print(f\"The probability of x being between {lower_bound} and {upper_bound} is {prob:.4f}\")\n"
   ]
  },
  {
   "cell_type": "code",
   "execution_count": 7,
   "id": "c5cb0386-d06d-462c-8b20-71be14f179d0",
   "metadata": {},
   "outputs": [
    {
     "name": "stdout",
     "output_type": "stream",
     "text": [
      "Probability for range -infinity -oo < x < 1: 0.7257\n"
     ]
    }
   ],
   "source": [
    "from scipy.stats import norm\n",
    "\n",
    "mu = -5\n",
    "sigma = 10\n",
    "\n",
    "lower_bound = -float(\"inf\")\n",
    "upper_bound = 1\n",
    "\n",
    "prob = norm.cdf(upper_bound, mu, sigma) - norm.cdf(lower_bound, mu, sigma)\n",
    "\n",
    "print(\"Probability for range -infinity -oo < x < 1: {:.4f}\".format(prob))\n"
   ]
  },
  {
   "cell_type": "code",
   "execution_count": 27,
   "id": "71e74fe8-302c-4c98-a333-68ea97f3e6e5",
   "metadata": {},
   "outputs": [
    {
     "data": {
      "image/png": "[encoded data removed]",
      "text/plain": [
       "<Figure size 640x480 with 1 Axes>"
      ]
     },
     "metadata": {},
     "output_type": "display_data"
    }
   ],
   "source": [
    "# PDF - Probability distribution\n",
    "import numpy as np\n",
    "import matplotlib.pyplot as plt\n",
    "\n",
    "# Generate random data that follows a normal distribution\n",
    "data = np.random.normal(0, 1, 1000) # 0 = mean, 1 = std, 1000 = length of array\n",
    "\n",
    "# Create a histogram of the data\n",
    "plt.hist(data, bins=30, density=True, alpha=0.5, color='blue')\n",
    "\n",
    "# Plot the probability density function of the normal distribution\n",
    "x = np.linspace(-4, 4, 100) # creates an evenly spaced sequence of numbers within a specified range\n",
    "pdf = 1/(np.sqrt(2*np.pi)) * np.exp(-0.5*x**2)  # PDF(x) = 1/(sqrt(2*pi)*std) * exp(-(x-mu)^2/(2*std^2))\n",
    "plt.plot(x, pdf, color='red')\n",
    "\n",
    "# Add labels and a title to the plot\n",
    "plt.xlabel('Value')\n",
    "plt.ylabel('Density')\n",
    "plt.title('Normal Distribution')\n",
    "\n",
    "# Show the plot\n",
    "plt.show()\n"
   ]
  },
  {
   "cell_type": "markdown",
   "id": "650dc061-d4a0-4be1-a187-dae4e991655a",
   "metadata": {},
   "source": [
    "## Empirical Distribution"
   ]
  },
  {
   "cell_type": "raw",
   "id": "6c3356ec-93e7-477c-9f0c-40b42b1552ac",
   "metadata": {},
   "source": [
    "We can use the empirical distribution to learn more about the data, such as what the most common values are, how spread out the values are, \n",
    "and how likely it is to get a certain value. We can also compare the empirical distribution to theoretical distributions, like the standard normal distribution, \n",
    "to see how well the data fits the theoretical model.\n",
    "\n",
    "In Python, we can create an empirical distribution by taking a set of data and counting how many times each value occurs. \n",
    "We can then normalize the counts to get a probability distribution, and plot the results on a graph. \n",
    "This allows us to visually see the distribution of the data."
   ]
  },
  {
   "cell_type": "code",
   "execution_count": 1,
   "id": "a55fccf5-9e99-468f-94a8-963455a4e1bf",
   "metadata": {},
   "outputs": [
    {
     "data": {
      "image/png": "[encoded data removed]",
      "text/plain": [
       "<Figure size 640x480 with 1 Axes>"
      ]
     },
     "metadata": {},
     "output_type": "display_data"
    }
   ],
   "source": [
    "import numpy as np\n",
    "import matplotlib.pyplot as plt\n",
    "\n",
    "# Generate a random sample of 1000 values\n",
    "sample = np.random.normal(0, 1, size=1000)\n",
    "\n",
    "# Compute the histogram of the sample\n",
    "counts, bins, _ = plt.hist(sample, bins=30, density=True, alpha=0.5)\n",
    "\n",
    "# Normalize the counts to form a probability density\n",
    "density = counts / np.sum(counts)\n",
    "\n",
    "# Compute the empirical cumulative distribution function\n",
    "cdf = np.cumsum(density)\n",
    "\n",
    "# Plot the empirical distribution function\n",
    "plt.plot(bins[:-1], cdf, 'b-', label='Empirical')\n",
    "\n",
    "# Add a legend and labels to the plot\n",
    "plt.legend()\n",
    "plt.xlabel('Value')\n",
    "plt.ylabel('Probability')\n",
    "plt.title('Empirical distribution')\n",
    "\n",
    "# Show the plot\n",
    "plt.show()\n"
   ]
  },
  {
   "cell_type": "code",
   "execution_count": 2,
   "id": "c2f43051-d2df-469a-80b7-77963ec3aba9",
   "metadata": {},
   "outputs": [
    {
     "data": {
      "image/png": "[encoded data removed]",
      "text/plain": [
       "<Figure size 640x480 with 1 Axes>"
      ]
     },
     "metadata": {},
     "output_type": "display_data"
    }
   ],
   "source": [
    "import numpy as np\n",
    "import matplotlib.pyplot as plt\n",
    "\n",
    "# Generate a random sample of 1000 values\n",
    "sample = np.random.normal(0, 1, size=1000)\n",
    "\n",
    "# Compute the histogram of the sample\n",
    "counts, bins, _ = plt.hist(sample, bins=30, density=True, alpha=0.5)\n",
    "\n",
    "# Normalize the counts to form a probability density\n",
    "density = counts / np.sum(counts)\n",
    "\n",
    "# Compute the empirical cumulative distribution function\n",
    "cdf = np.cumsum(density)\n",
    "\n",
    "# Plot the empirical distribution function\n",
    "plt.plot(bins[:-1], cdf, 'b-', label='Empirical')\n",
    "\n",
    "# Plot the standard normal distribution\n",
    "x = np.linspace(-4, 4, 100)\n",
    "pdf = 1 / np.sqrt(2 * np.pi) * np.exp(-x**2 / 2)\n",
    "plt.plot(x, pdf, 'r-', label='Standard normal')\n",
    "\n",
    "# Add a legend and labels to the plot\n",
    "plt.legend()\n",
    "plt.xlabel('Value')\n",
    "plt.ylabel('Probability')\n",
    "plt.title('Empirical and standard normal distribution')\n",
    "\n",
    "# Show the plot\n",
    "plt.show()\n"
   ]
  },
  {
   "cell_type": "code",
   "execution_count": 4,
   "id": "9e2a07e2-a184-444b-a6da-36a3fb7cca92",
   "metadata": {},
   "outputs": [
    {
     "name": "stdout",
     "output_type": "stream",
     "text": [
      "Percentage of data below 1 in the standard normal distribution: 15.865525393145708 %\n"
     ]
    }
   ],
   "source": [
    "from scipy.stats import norm\n",
    "\n",
    "# Find the probability of getting a value below 1 in the standard normal distribution\n",
    "p = norm.cdf(-1)\n",
    "\n",
    "# Convert the probability to a percentage\n",
    "percentage = p * 100\n",
    "\n",
    "# Print the result\n",
    "print(\"Percentage of data below 1 in the standard normal distribution:\", percentage, \"%\")\n"
   ]
  },
  {
   "cell_type": "markdown",
   "id": "24081fc3-b47b-487d-8f7d-a0516cb6ed43",
   "metadata": {},
   "source": [
    "## Z-score"
   ]
  },
  {
   "cell_type": "raw",
   "id": "a0bbe7a1-7c2a-4a7d-b885-ba4a173c154b",
   "metadata": {},
   "source": [
    "A z-score is a measure that tells us how far away a value is from the average value of a group of data. \n",
    "It's a way to compare different values in a set of data and see how unusual or typical they are compared to the rest of the data.\n",
    "\n",
    "The z-score is calculated by subtracting the average value of the data from the value we're interested in, \n",
    "and then dividing that difference by the standard deviation of the data. \n",
    "The resulting number tells us how many standard deviations away from the average value the value we're interested in is.\n",
    "\n",
    "Z-scores are used for many things, like finding outliers (values that are very different from the rest of the data), \n",
    "comparing different groups of data, and making predictions about future data. \n",
    "They can also help us understand how much variability there is in a set of data and how closely the data follows a normal pattern."
   ]
  },
  {
   "cell_type": "code",
   "execution_count": 9,
   "id": "c8b5b2a4-7f2e-4528-bb84-c8ef733f7295",
   "metadata": {},
   "outputs": [
    {
     "name": "stdout",
     "output_type": "stream",
     "text": [
      "Z-score for a value of 10: 0.05707301455353511\n",
      "Z-scores for all values in the data: [-1.54097139 -0.94170474 -0.54219364  0.05707301  0.45658412  1.05585077\n",
      "  1.45536187]\n"
     ]
    }
   ],
   "source": [
    "import numpy as np\n",
    "\n",
    "# Define the data\n",
    "data = np.array([2, 5, 7, 10, 12, 15, 17])\n",
    "\n",
    "# Calculate the mean and standard deviation of the data\n",
    "mean = np.mean(data)\n",
    "std = np.std(data)\n",
    "\n",
    "# Calculate the z-score for a value of 10\n",
    "z = (10 - mean) / std\n",
    "\n",
    "# Print the z-score\n",
    "print(\"Z-score for a value of 10:\", z)\n",
    "\n",
    "# Calculate the z-score for all values in the data\n",
    "z_scores = (data - mean) / std\n",
    "\n",
    "# Print the z-scores\n",
    "print(\"Z-scores for all values in the data:\", z_scores)\n"
   ]
  },
  {
   "cell_type": "markdown",
   "id": "baa95314-1758-4123-a2db-37fb67bae095",
   "metadata": {},
   "source": [
    "## Central Limit Theorem"
   ]
  },
  {
   "cell_type": "raw",
   "id": "7dd7f305-492a-4a45-8aa7-9f1431cd8680",
   "metadata": {},
   "source": [
    "The central limit theorem, states that as the sample size increases, the distribution of sample means will approach a normal distribution. \n",
    "This means that even if the population distribution is not normal, the distribution of sample means will become more normal as the sample size increases."
   ]
  },
  {
   "cell_type": "code",
   "execution_count": 10,
   "id": "dc43de5a-860c-4e1a-b393-f93a09e4f018",
   "metadata": {},
   "outputs": [
    {
     "name": "stdout",
     "output_type": "stream",
     "text": [
      "Mean of sample means: 1.992261498211984\n",
      "Standard deviation of sample means: 0.26101822367351923\n"
     ]
    },
    {
     "data": {
      "image/png": "[encoded data removed]",
      "text/plain": [
       "<Figure size 640x480 with 1 Axes>"
      ]
     },
     "metadata": {},
     "output_type": "display_data"
    }
   ],
   "source": [
    "import numpy as np\n",
    "import matplotlib.pyplot as plt\n",
    "\n",
    "# Define the population distribution (non-normal distribution)\n",
    "population = np.random.gamma(shape=2, scale=1, size=100000)\n",
    "\n",
    "# Define the sample size and number of samples\n",
    "sample_size = 30\n",
    "num_samples = 1000\n",
    "\n",
    "# Define an array to store the sample means\n",
    "sample_means = np.zeros(num_samples)\n",
    "\n",
    "# Take a large number of random samples and calculate the mean of each sample\n",
    "for i in range(num_samples):\n",
    "    sample = np.random.choice(population, size=sample_size, replace=False)\n",
    "    sample_means[i] = np.mean(sample)\n",
    "\n",
    "# Calculate the mean and standard deviation of the sample means\n",
    "mean_of_sample_means = np.mean(sample_means)\n",
    "std_of_sample_means = np.std(sample_means)\n",
    "\n",
    "# Print the mean and standard deviation of the sample means\n",
    "print(\"Mean of sample means:\", mean_of_sample_means)\n",
    "print(\"Standard deviation of sample means:\", std_of_sample_means)\n",
    "\n",
    "# Plot the histogram of the sample means and compare to normal distribution\n",
    "plt.hist(sample_means, bins=50, density=True, alpha=0.5, color='blue', label='Sample means')\n",
    "plt.plot(np.linspace(0, 6, 100), \n",
    "         norm.pdf(np.linspace(0, 6, 100), loc=mean_of_sample_means, scale=std_of_sample_means), \n",
    "         color='red', label='Normal distribution')\n",
    "plt.xlabel('Sample mean')\n",
    "plt.ylabel('Frequency')\n",
    "plt.legend()\n",
    "plt.show()\n"
   ]
  },
  {
   "cell_type": "markdown",
   "id": "0d5dddec-4a06-4f1b-8a35-b6fd1b15a8bc",
   "metadata": {},
   "source": [
    "## Task - Central Limit Theorem"
   ]
  },
  {
   "cell_type": "raw",
   "id": "b55cf2d7-a8bd-42da-8122-136bf203625a",
   "metadata": {},
   "source": [
    "The average male drinks 2 L of water when active outdoors (with\n",
    "a standard deviation of 0.7 L). You are planning a full day nature\n",
    "trip for 50 men and will bring 110 L of water. What is the\n",
    "probability that you will run out?"
   ]
  },
  {
   "cell_type": "code",
   "execution_count": 20,
   "id": "b6072a25-687f-4a6b-a75d-c7fcdbe7cf9d",
   "metadata": {},
   "outputs": [
    {
     "name": "stdout",
     "output_type": "stream",
     "text": [
      "Probability of running out of water: 2.17%\n"
     ]
    },
    {
     "data": {
      "image/png": "[encoded data removed]",
      "text/plain": [
       "<Figure size 640x480 with 1 Axes>"
      ]
     },
     "metadata": {},
     "output_type": "display_data"
    }
   ],
   "source": [
    "import numpy as np\n",
    "from scipy.stats import norm\n",
    "import matplotlib.pyplot as plt\n",
    "\n",
    "# Define the variables\n",
    "mu = 2\n",
    "sigma = 0.7\n",
    "n = 50\n",
    "water = 110\n",
    "\n",
    "# Calculate the total amount of water that will be consumed\n",
    "total_water = mu * n\n",
    "\n",
    "# Calculate the standard deviation of the total water consumption\n",
    "std_total_water = np.sqrt(n) * sigma\n",
    "\n",
    "# Calculate the z-score for the available water\n",
    "z = (water - total_water) / std_total_water\n",
    "\n",
    "# Calculate the probability of running out of water\n",
    "prob = norm.cdf(z)\n",
    "\n",
    "# Print the probability of running out of water\n",
    "print(f\"Probability of running out of water: {(1-prob)*100:.2f}%\")\n",
    "\n",
    "# Create a range of x values to plot\n",
    "x = np.linspace(80, 140, 500)\n",
    "\n",
    "# Create a normal distribution with mean and standard deviation\n",
    "dist = norm(total_water, std_total_water)\n",
    "\n",
    "# Plot the normal distribution\n",
    "plt.plot(x, dist.pdf(x), color='blue', label='Normal Distribution')\n",
    "\n",
    "# Shade the area under the curve corresponding to the probability of running out of water\n",
    "plt.fill_between(x, dist.pdf(x), where=x<water, color='red', alpha=0.5, label='Probability of running out')\n",
    "\n",
    "# Add labels and legend\n",
    "plt.xlabel('Total Water Consumed (L)')\n",
    "plt.ylabel('Probability Density')\n",
    "plt.title('Distribution of Total Water Consumption')\n",
    "plt.legend()\n",
    "\n",
    "# Show the plot\n",
    "plt.show()\n"
   ]
  },
  {
   "cell_type": "markdown",
   "id": "7d0258ad-01e2-4c31-8ca6-d5a8a4714c40",
   "metadata": {},
   "source": [
    "## Bernoulli Distribution"
   ]
  },
  {
   "cell_type": "raw",
   "id": "54b6754a-b021-421b-a83e-bede7d92397f",
   "metadata": {},
   "source": [
    "Bernoulli distribution is a probability distribution that describes the outcomes of a single experiment that can either have a \"success\" or a \"failure\" result."
   ]
  },
  {
   "cell_type": "raw",
   "id": "0087205a-fa77-4464-893d-c8d9ce19f557",
   "metadata": {},
   "source": [
    "The probability mass function (PMF) of the Bernoulli distribution is given by:\n",
    "\n",
    "P(X=k) = p^k * (1-p)^(1-k), for k=0,1\n",
    "\n",
    "where X is the random variable representing the outcome of the experiment, and k is either 0 or 1, depending on whether the outcome is a failure or a success, respectively.\n",
    "\n",
    "In other words, if X=1 represents a success and X=0 represents a failure, the PMF of the Bernoulli distribution can be written as:\n",
    "\n",
    "P(X=1) = p\n",
    "P(X=0) = 1-p\n",
    "\n",
    "The expected value (mean) and variance of the Bernoulli distribution are:\n",
    "\n",
    "E(X) = p\n",
    "Var(X) = p(1-p)\n",
    "\n",
    "The Bernoulli distribution is a building block for many other probability distributions, such as \n",
    "the binomial distribution and the geometric distribution. \n",
    "\n",
    "It is often used in modeling simple binary events, such as the outcome of a coin toss or a yes/no question."
   ]
  },
  {
   "cell_type": "code",
   "execution_count": 25,
   "id": "92d40e97-a6b8-4c34-a175-ff1f789bfd19",
   "metadata": {},
   "outputs": [
    {
     "name": "stdout",
     "output_type": "stream",
     "text": [
      "[0 0 1 1 0 0 0 0 1 0]\n"
     ]
    }
   ],
   "source": [
    "# Generating random samples from a Bernoulli distribution\n",
    "\n",
    "import numpy as np\n",
    "from scipy.stats import bernoulli\n",
    "\n",
    "# Define the probability of success\n",
    "p = 0.3\n",
    "\n",
    "# Generate 10 random samples from a Bernoulli distribution with probability of success p\n",
    "samples = bernoulli.rvs(p, size=10)\n",
    "\n",
    "# Print the samples\n",
    "print(samples)\n"
   ]
  },
  {
   "cell_type": "code",
   "execution_count": 26,
   "id": "2c9f80fd-70c0-4faa-aa9d-cef995b39dd1",
   "metadata": {},
   "outputs": [
    {
     "name": "stdout",
     "output_type": "stream",
     "text": [
      "P(X=0) = 0.5\n",
      "P(X=1) = 0.5\n"
     ]
    }
   ],
   "source": [
    "# Computing the probability mass function (PMF) of a Bernoulli distribution\n",
    "\n",
    "import numpy as np\n",
    "from scipy.stats import bernoulli\n",
    "\n",
    "# Define the probability of success\n",
    "p = 0.5\n",
    "\n",
    "# Compute the PMF of a Bernoulli distribution with probability of success p for k=0 and k=1\n",
    "pmf = bernoulli.pmf([0, 1], p)\n",
    "\n",
    "# Print the PMF\n",
    "print(\"P(X=0) =\", pmf[0])\n",
    "print(\"P(X=1) =\", pmf[1])\n"
   ]
  },
  {
   "cell_type": "code",
   "execution_count": 27,
   "id": "45b4ef47-5572-43da-b444-e4f216d3bda7",
   "metadata": {},
   "outputs": [
    {
     "name": "stdout",
     "output_type": "stream",
     "text": [
      "Mean = 0.8\n",
      "Variance = 0.15999999999999998\n"
     ]
    }
   ],
   "source": [
    "# Computing the mean and variance of a Bernoulli distribution\n",
    "\n",
    "import numpy as np\n",
    "from scipy.stats import bernoulli\n",
    "\n",
    "# Define the probability of success\n",
    "p = 0.8\n",
    "\n",
    "# Compute the mean and variance of a Bernoulli distribution with probability of success p\n",
    "mean = bernoulli.mean(p)\n",
    "variance = bernoulli.var(p)\n",
    "\n",
    "# Print the mean and variance\n",
    "print(\"Mean =\", mean)\n",
    "print(\"Variance =\", variance)\n"
   ]
  },
  {
   "cell_type": "code",
   "execution_count": 28,
   "id": "19dc76db-e412-4fb3-af57-bdeb028d7f24",
   "metadata": {},
   "outputs": [
    {
     "name": "stdout",
     "output_type": "stream",
     "text": [
      "Mean = 0.6\n",
      "Variance = 0.24\n"
     ]
    }
   ],
   "source": [
    "# Task\n",
    "# Inputs:\n",
    "# Favourable = 0.6 = p\n",
    "# Unfavourable = 0.4 = q\n",
    "\n",
    "# mean = p = 0.6\n",
    "# variance = p * (1 - p) = 0.6 * (1 - 0.6) = 0.24\n",
    "\n",
    "import numpy as np\n",
    "from scipy.stats import bernoulli\n",
    "\n",
    "# Define the probability of success\n",
    "p = 0.6\n",
    "\n",
    "# Compute the mean and variance of a Bernoulli distribution with probability of success p\n",
    "mean = bernoulli.mean(p)\n",
    "variance = bernoulli.var(p)\n",
    "\n",
    "# Print the mean and variance\n",
    "print(\"Mean =\", mean)\n",
    "print(\"Variance =\", variance)\n"
   ]
  },
  {
   "cell_type": "markdown",
   "id": "0c925936-b380-4e4e-8b60-16d8a5b987c8",
   "metadata": {},
   "source": [
    "## Margins of Error"
   ]
  },
  {
   "cell_type": "raw",
   "id": "e1279a11-3098-4e30-9d38-e975e7fc67a2",
   "metadata": {},
   "source": [
    "The margin of error is a measure of how much uncertainty there is in your estimate of the true proportion.\n",
    "\n",
    "A smaller margin of error means that you can be more confident that your estimate is accurate. \n",
    "A larger margin of error means that there is more uncertainty or error in your estimate, and you can't be as sure that your estimate is correct.\n",
    "The wide confidence interval indicates more uncertainty and less accuracy in our estimate.\n",
    "\n",
    "So shortly, Margins of error tell you how much uncertainty there is in your estimate of a population based on a sample of data. \n",
    "It's a way to measure how confident you can be in your estimate, given the variability that might exist in the larger population.\n",
    "\n",
    "Formula:\n",
    "Margin of Error = z * sqrt(p * (1 - p) / n)\n",
    "\n",
    "- z  is the critical value for the desired level of confidence\n",
    "- p  is the sample proportion\n",
    "- n  is the sample size\n"
   ]
  },
  {
   "cell_type": "code",
   "execution_count": 17,
   "id": "980e2c31-ad8c-4340-82f1-0c0c11aa0750",
   "metadata": {},
   "outputs": [
    {
     "name": "stdout",
     "output_type": "stream",
     "text": [
      "Sample size: 100\n",
      "Sample proportion: 0.57\n",
      "Standard error: 0.04950757517794625\n",
      "Margin of error (95% CI): 0.09703306431068381\n",
      "95% confidence interval: 0.47296693568931614 - 0.6670330643106838\n"
     ]
    }
   ],
   "source": [
    "import numpy as np\n",
    "from scipy.stats import norm\n",
    "\n",
    "# A team's vote and B team's vote in percentage\n",
    "A_team = 57\n",
    "B_team = 100 - A_team\n",
    "\n",
    "# Define the sample size and sample proportion\n",
    "n = 100\n",
    "p_hat = A_team / n\n",
    "\n",
    "# Calculate the standard error of the sample proportion\n",
    "std_error = np.sqrt(p_hat * (1 - p_hat) / n)\n",
    "\n",
    "# Calculate the margin of error for a 95% confidence interval\n",
    "z = norm.ppf(0.975)  # z-score for a 95% confidence interval\n",
    "margin_of_error = z * std_error\n",
    "\n",
    "# Calculate the lower and upper bounds of the confidence interval\n",
    "lower_bound = p_hat - margin_of_error\n",
    "upper_bound = p_hat + margin_of_error\n",
    "# these tell me that we can be 95% confident that the true population proportion is somewhere between lower_bound and upper_bound.\n",
    "\n",
    "# Print the results\n",
    "print(\"Sample size:\", n)\n",
    "print(\"Sample proportion:\", p_hat)\n",
    "print(\"Standard error:\", std_error)\n",
    "print(\"Margin of error (95% CI):\", margin_of_error)\n",
    "print(\"95% confidence interval:\", lower_bound, \"-\", upper_bound)\n"
   ]
  },
  {
   "cell_type": "markdown",
   "id": "7ac94ef6-a4e7-4be6-9f9f-ca2670ef36e5",
   "metadata": {},
   "source": [
    "## Hypothesis Testing"
   ]
  },
  {
   "cell_type": "raw",
   "id": "f3fb8520-31ff-4b5c-9075-600d479fbf8e",
   "metadata": {},
   "source": [
    "Hypothesis testing is a way to figure out if something is true or not by looking at some evidence."
   ]
  },
  {
   "cell_type": "raw",
   "id": "0887bb78-513e-4128-8348-e8791c76707b",
   "metadata": {},
   "source": [
    "For example, let's say we want to find out if eating breakfast helps you do better in school. \n",
    "We could come up with two ideas, called hypotheses:\n",
    "\n",
    "* The first idea is called the \"null hypothesis,\" which says that eating breakfast doesn't help you do better in school.\n",
    "* The second idea is called the \"alternative hypothesis,\" which says that eating breakfast does help you do better in school.\n",
    "\n",
    "To test these hypotheses, we would need to gather some evidence, like data from a group of students who eat breakfast and a group of students who don't eat breakfast. \n",
    "We could then use some math to figure out if there is a big enough difference between the two groups to support the alternative hypothesis, \n",
    "or if the difference is small enough to support the null hypothesis.\n",
    "\n",
    "The \"p-value\" is a number that helps us decide which hypothesis is more likely to be true based on the evidence we have. \n",
    "If the p-value is very small, it means that the evidence supports the alternative hypothesis and we can be pretty sure that eating breakfast helps you do better in school. \n",
    "If the p-value is larger, it means that the evidence is not strong enough to support the alternative hypothesis, and we can't be sure if eating breakfast helps or not."
   ]
  },
  {
   "cell_type": "code",
   "execution_count": 29,
   "id": "0e7f89e5-c040-4631-97f0-9ab4e6227aef",
   "metadata": {},
   "outputs": [
    {
     "name": "stdout",
     "output_type": "stream",
     "text": [
      "Sample mean: 178.6\n",
      "Sample standard deviation: 6.058969476000941\n",
      "T-statistic: 1.8789003017258936\n",
      "P-value: 0.09296932422661386\n"
     ]
    }
   ],
   "source": [
    "# Suppose we want to test if the mean height of men in a certain population is greater than 175 cm. We can set up our null and alternative hypotheses as follows:\n",
    "\n",
    "# - Null hypothesis: The mean height of men in the population is not greater than 175 cm.\n",
    "# - Alternative hypothesis: The mean height of men in the population is greater than 175 cm.\n",
    "\n",
    "import numpy as np\n",
    "from scipy.stats import ttest_1samp\n",
    "from scipy.stats import t\n",
    "\n",
    "# Sample of heights\n",
    "heights = np.array([180, 170, 185, 178, 172, 190, 176, 182, 174, 179])\n",
    "n = len(heights)\n",
    "\n",
    "# Calculate sample mean and standard deviation\n",
    "sample_mean = np.mean(heights)\n",
    "sample_std = np.std(heights, ddof=1)\n",
    "\n",
    "# Null hypothesis: mean height is not greater than 175 cm\n",
    "null_mean = 175\n",
    "\n",
    "# Perform t-test\n",
    "# t_stat, p_val = ttest_1samp(heights, null_mean)\n",
    "t_stat = (sample_mean - null_mean) / (sample_std / np.sqrt(n))\n",
    "df = n - 1\n",
    "p_val = 2 * (1 - t.cdf(np.abs(t_stat), df))\n",
    "\n",
    "# Print results\n",
    "print(\"Sample mean:\", sample_mean)\n",
    "print(\"Sample standard deviation:\", sample_std)\n",
    "print(\"T-statistic:\", t_stat)\n",
    "print(\"P-value:\", p_val)\n",
    "\n",
    "# The t-test gives us a t-statistic of 1.87 and a p-value of 0.09. \n",
    "# If the p-value is less than 0.05, we reject the null hypothesis and conclude that the mean height of men in the population is likely greater than 175 cm.\n",
    "# If the p-value is greater than 0.05, it means that the evidence we have is not strong enough to reject the null hypothesis. \n",
    "# In other words, we cannot say with confidence that the alternative hypothesis is true based on the available evidence."
   ]
  },
  {
   "cell_type": "markdown",
   "id": "4b4ad906-e6ed-4453-92ca-b7fb1f663d5e",
   "metadata": {},
   "source": [
    "## Task - Hypothesis Testing"
   ]
  },
  {
   "cell_type": "raw",
   "id": "b70caf8c-753b-418e-9145-a9aaf8216835",
   "metadata": {},
   "source": [
    "A neurologist is testing the effect of a drug on response time by injecting 100 rats\n",
    "with a unit dose of the drug, subjecting each to neurological stimulus, and recording\n",
    "its response time. \n",
    "\n",
    "The neurologist knows that the mean response time for rats not injected with the drug is 1.2 seconds. \n",
    "The mean of the 100 injected rats' response times is 1.05 seconds with a sample standard deviation of 0.5 seconds. \n",
    "Do you think that the drug has an effect on response time?"
   ]
  },
  {
   "cell_type": "code",
   "execution_count": 27,
   "id": "eb7e044d-2c1f-459c-8e27-ded4d93577e7",
   "metadata": {},
   "outputs": [
    {
     "name": "stdout",
     "output_type": "stream",
     "text": [
      "Sample mean: 1.05\n",
      "Sample standard deviation: 0.5\n",
      "Null hypothesis mean: 1.2\n",
      "T-statistic: -2.9999999999999982\n",
      "P-value: 0.003415507921578964\n",
      "We reject the null hypothesis.\n"
     ]
    }
   ],
   "source": [
    "import numpy as np\n",
    "from scipy.stats import ttest_1samp\n",
    "from scipy.stats import t\n",
    "\n",
    "# Define null and alternative hypotheses\n",
    "null_mean = 1.2     # The drug has no effect on response time\n",
    "alt_mean = 1.05     # The drug has an effect on response time\n",
    "\n",
    "# Sample of 100 rats injected with the drug\n",
    "n = 100\n",
    "sample_mean = 1.05\n",
    "sample_std = 0.5\n",
    "\n",
    "# Perform one-sample t-test\n",
    "# t_stat, p_val = ttest_1samp(np.random.normal(sample_mean, sample_std, n), null_mean)\n",
    "\n",
    "# Calculate t-statistic and p-value\n",
    "t_stat = (sample_mean - null_mean) / (sample_std / np.sqrt(n))\n",
    "df = n - 1\n",
    "p_val = 2 * (1 - t.cdf(np.abs(t_stat), df))\n",
    "\n",
    "# Print results\n",
    "print(\"Sample mean:\", sample_mean)\n",
    "print(\"Sample standard deviation:\", sample_std)\n",
    "print(\"Null hypothesis mean:\", null_mean)\n",
    "print(\"T-statistic:\", t_stat)\n",
    "print(\"P-value:\", p_val)\n",
    "\n",
    "# Check if the p-value is less than alpha\n",
    "alpha = 0.05\n",
    "if p_val < alpha:\n",
    "    print(\"We reject the null hypothesis.\")\n",
    "else:\n",
    "    print(\"We fail to reject the null hypothesis.\")\n"
   ]
  },
  {
   "cell_type": "code",
   "execution_count": null,
   "id": "fe08033b-f203-4326-8c31-d4985586fede",
   "metadata": {},
   "outputs": [],
   "source": []
  },
  {
   "cell_type": "code",
   "execution_count": null,
   "id": "f9cfa61d-f008-4c25-85f2-d385288fc95f",
   "metadata": {},
   "outputs": [],
   "source": []
  },
  {
   "cell_type": "code",
   "execution_count": null,
   "id": "8b1455f6-377f-4196-abe3-b47d28e27a9d",
   "metadata": {},
   "outputs": [],
   "source": []
  },
  {
   "cell_type": "code",
   "execution_count": null,
   "id": "3e3894f8-dea0-4180-9b8e-9c3a6e5fcb69",
   "metadata": {},
   "outputs": [],
   "source": []
  },
  {
   "cell_type": "code",
   "execution_count": null,
   "id": "6339ad65-bedf-4639-a8a0-d5a003f61fb5",
   "metadata": {},
   "outputs": [],
   "source": []
  },
  {
   "cell_type": "code",
   "execution_count": null,
   "id": "4f1f3e6a-4a82-4c23-97a2-359163840ff0",
   "metadata": {},
   "outputs": [],
   "source": []
  },
  {
   "cell_type": "code",
   "execution_count": null,
   "id": "a8d01626-fa88-4e0c-89d1-6146eb8f0b26",
   "metadata": {},
   "outputs": [],
   "source": []
  },
  {
   "cell_type": "code",
   "execution_count": null,
   "id": "88d60cb7-2799-4fd8-b264-9e38f5ea5a94",
   "metadata": {},
   "outputs": [],
   "source": []
  },
  {
   "cell_type": "code",
   "execution_count": null,
   "id": "7fbbd689-4fcc-4f51-aed9-ec6a37ff56be",
   "metadata": {},
   "outputs": [],
   "source": []
  },
  {
   "cell_type": "code",
   "execution_count": null,
   "id": "90853fbe-2798-4681-8e6e-8214d35b1668",
   "metadata": {},
   "outputs": [],
   "source": []
  },
  {
   "cell_type": "code",
   "execution_count": null,
   "id": "3b80523e-9add-47d3-a147-953c221167b0",
   "metadata": {},
   "outputs": [],
   "source": []
  },
  {
   "cell_type": "code",
   "execution_count": null,
   "id": "b0dc4dfc-03ad-4762-a756-6e8e79d10f73",
   "metadata": {},
   "outputs": [],
   "source": []
  },
  {
   "cell_type": "code",
   "execution_count": null,
   "id": "81b3dbf4-36e0-4182-aa96-c0db1da3c98f",
   "metadata": {},
   "outputs": [],
   "source": []
  },
  {
   "cell_type": "code",
   "execution_count": null,
   "id": "2c92fdbf-5da0-401d-9bb2-fb5a3de7f230",
   "metadata": {},
   "outputs": [],
   "source": []
  },
  {
   "cell_type": "code",
   "execution_count": null,
   "id": "8a21be3f-6c32-4a2c-8ebf-cf5fc9bf731f",
   "metadata": {},
   "outputs": [],
   "source": []
  },
  {
   "cell_type": "code",
   "execution_count": null,
   "id": "92706455-95b8-4e0e-9df4-c4d350a2c16e",
   "metadata": {},
   "outputs": [],
   "source": []
  },
  {
   "cell_type": "code",
   "execution_count": null,
   "id": "4c57c9b8-6186-44e4-b58e-e8f923807ec2",
   "metadata": {},
   "outputs": [],
   "source": []
  }
 ],
 "metadata": {
  "kernelspec": {
   "display_name": "Python 3 (ipykernel)",
   "language": "python",
   "name": "python3"
  },
  "language_info": {
   "codemirror_mode": {
    "name": "ipython",
    "version": 3
   },
   "file_extension": ".py",
   "mimetype": "text/x-python",
   "name": "python",
   "nbconvert_exporter": "python",
   "pygments_lexer": "ipython3",
   "version": "3.9.13"
  },
  "toc-autonumbering": false,
  "toc-showcode": false,
  "toc-showmarkdowntxt": true
 },
 "nbformat": 4,
 "nbformat_minor": 5
}
